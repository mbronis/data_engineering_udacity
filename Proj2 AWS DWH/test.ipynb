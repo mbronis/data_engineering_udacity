{
 "cells": [
  {
   "cell_type": "markdown",
   "metadata": {},
   "source": [
    "# Step1. Setup paths"
   ]
  },
  {
   "cell_type": "code",
   "execution_count": 1,
   "metadata": {},
   "outputs": [],
   "source": [
    "import os\n",
    "from functions.setup_aws import *\n",
    "\n",
    "os.chdir('/home/mic/Desktop/Udacity 2020/data engineering/Projects Repo/data_engineering_udacity/Proj2 AWS DWH/')\n",
    "\n",
    "iam_config = 'configs/iam.cfg'\n",
    "aws_config = 'configs/aws.cfg'"
   ]
  },
  {
   "cell_type": "markdown",
   "metadata": {},
   "source": [
    "# Step2. Setup AWS"
   ]
  },
  {
   "cell_type": "markdown",
   "metadata": {},
   "source": [
    "### Step 2a. Setup Redshift cluster"
   ]
  },
  {
   "cell_type": "code",
   "execution_count": null,
   "metadata": {},
   "outputs": [],
   "source": [
    "#create a client for Redshift\n",
    "redshift_admin = create_redshift_admin(iam_config)"
   ]
  },
  {
   "cell_type": "code",
   "execution_count": null,
   "metadata": {},
   "outputs": [],
   "source": [
    "#create a Redshift cluster with specs defined in aws.cfg\n",
    "response = create_cluster(aws_config, redshift_admin)"
   ]
  },
  {
   "cell_type": "markdown",
   "metadata": {},
   "source": [
    "#### Check status until cluster is available."
   ]
  },
  {
   "cell_type": "code",
   "execution_count": null,
   "metadata": {},
   "outputs": [],
   "source": [
    "# cluster status\n",
    "cluster_id = response['Cluster']['ClusterIdentifier']\n",
    "cluster_params = redshift_admin.describe_clusters(ClusterIdentifier = cluster_id)['Clusters'][0]\n",
    "cluster_params['ClusterStatus']"
   ]
  },
  {
   "cell_type": "markdown",
   "metadata": {},
   "source": [
    "#### Update aws.cfg with some key cluster parameters"
   ]
  },
  {
   "cell_type": "code",
   "execution_count": null,
   "metadata": {},
   "outputs": [],
   "source": [
    "# get cluster parameters\n",
    "cl_vpc_id = cluster_params['VpcId']\n",
    "cl_vpc_sg_id = cluster_params['VpcSecurityGroups'][0]['VpcSecurityGroupId']\n",
    "cl_endpoint_adress = cluster_params['Endpoint']['Address']\n",
    "cl_endpoint_port = cluster_params['Endpoint']['Port']\n",
    "\n",
    "# update aws.cfg\n",
    "config = configparser.ConfigParser()\n",
    "config.read_file(open('configs/aws.cfg'))\n",
    "\n",
    "config['CLUSTER']['cl_vpc_id'] = cl_vpc_id\n",
    "config['CLUSTER']['cl_vpc_sg_id'] = cl_vpc_sg_id\n",
    "config['DB']['db_host'] = cl_endpoint_adress\n",
    "config['DB']['db_port'] = str(cl_endpoint_port)\n",
    "\n",
    "with open('configs/aws.cfg', 'w') as configfile:\n",
    "    config.write(configfile)\n",
    "\n",
    "configfile.close()    "
   ]
  },
  {
   "cell_type": "markdown",
   "metadata": {},
   "source": [
    "### Step2b. Open endpoint for inbound connections"
   ]
  },
  {
   "cell_type": "code",
   "execution_count": null,
   "metadata": {},
   "outputs": [],
   "source": [
    "#open an incoming TCP port to access the cluster ednpoint\n",
    "open_tcp_endpoint(iam_config, aws_config)"
   ]
  },
  {
   "cell_type": "markdown",
   "metadata": {},
   "source": [
    "#### Test connection"
   ]
  },
  {
   "cell_type": "code",
   "execution_count": null,
   "metadata": {},
   "outputs": [],
   "source": [
    "#test connection\n",
    "conn = make_connection(aws_config)\n",
    "print(conn)\n",
    "conn.close()"
   ]
  },
  {
   "cell_type": "markdown",
   "metadata": {},
   "source": [
    "# Step3. Dowload sample raw data"
   ]
  },
  {
   "cell_type": "code",
   "execution_count": null,
   "metadata": {},
   "outputs": [],
   "source": [
    "s3 = create_s3(iam_config)\n",
    "bucket_name = 'udacity-dend'\n",
    "sampleDbBucket =  s3.Bucket(bucket_name)"
   ]
  },
  {
   "cell_type": "code",
   "execution_count": null,
   "metadata": {},
   "outputs": [],
   "source": [
    "#print sample song data\n",
    "for obj in sampleDbBucket.objects.filter(Prefix=\"song_data/A/A/A/TRAAAA\"):\n",
    "    print(obj)"
   ]
  },
  {
   "cell_type": "code",
   "execution_count": null,
   "metadata": {},
   "outputs": [],
   "source": [
    "#print sample log data\n",
    "for obj in sampleDbBucket.objects.filter(Prefix=\"log_data\"):\n",
    "    print(obj)"
   ]
  },
  {
   "cell_type": "code",
   "execution_count": null,
   "metadata": {},
   "outputs": [],
   "source": [
    "#download sample data\n",
    "s3.Bucket(bucket_name).download_file(Key = 'song_data/A/A/A/TRAAAAK128F9318786.json', Filename = 'samples/TRAAAAK128F9318786.json')\n",
    "s3.Bucket(bucket_name).download_file(Key = 'log_data/2018/11/2018-11-01-events.json', Filename = 'samples/2018-11-01-events.json')"
   ]
  },
  {
   "cell_type": "markdown",
   "metadata": {},
   "source": [
    "# Step4. ETL - create and populate tables"
   ]
  },
  {
   "cell_type": "code",
   "execution_count": 2,
   "metadata": {},
   "outputs": [],
   "source": [
    "%run 'functions/create_tables.py'"
   ]
  },
  {
   "cell_type": "code",
   "execution_count": null,
   "metadata": {},
   "outputs": [],
   "source": [
    "%run 'functions/etl.py'"
   ]
  },
  {
   "cell_type": "code",
   "execution_count": null,
   "metadata": {},
   "outputs": [],
   "source": []
  },
  {
   "cell_type": "markdown",
   "metadata": {},
   "source": [
    "# Clean-up"
   ]
  },
  {
   "cell_type": "code",
   "execution_count": null,
   "metadata": {},
   "outputs": [],
   "source": [
    "#delete cluster\n",
    "cluster_id = 'redshiftCluster1'\n",
    "delete_cluster(cluster_id, redshift_admin)"
   ]
  },
  {
   "cell_type": "code",
   "execution_count": null,
   "metadata": {},
   "outputs": [],
   "source": [
    "#verify cluster deletion\n",
    "try:\n",
    "    status = redshift_admin.describe_clusters(ClusterIdentifier = cluster_id)['Clusters'][0]['ClusterStatus']\n",
    "    print('Cluster status: {}'.format(status))\n",
    "except Exception as e:\n",
    "    print(e)"
   ]
  }
 ],
 "metadata": {
  "kernelspec": {
   "display_name": "Python 3.8.2 64-bit ('py38-dataEngineering': conda)",
   "language": "python",
   "name": "python38264bitpy38dataengineeringconda6e8d05d30a394fee93e0a92e4e504a6c"
  },
  "language_info": {
   "codemirror_mode": {
    "name": "ipython",
    "version": 3
   },
   "file_extension": ".py",
   "mimetype": "text/x-python",
   "name": "python",
   "nbconvert_exporter": "python",
   "pygments_lexer": "ipython3",
   "version": "3.8.2"
  }
 },
 "nbformat": 4,
 "nbformat_minor": 2
}
