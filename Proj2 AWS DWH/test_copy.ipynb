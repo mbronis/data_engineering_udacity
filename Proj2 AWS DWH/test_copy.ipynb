{
 "cells": [
  {
   "cell_type": "code",
   "execution_count": 1,
   "metadata": {},
   "outputs": [],
   "source": [
    "import os\n",
    "from time import time\n",
    "from functions.setup_aws import *\n",
    "\n",
    "os.chdir('/home/mic/Desktop/Udacity 2020/data engineering/Projects Repo/data_engineering_udacity/Proj2 AWS DWH/')"
   ]
  },
  {
   "cell_type": "code",
   "execution_count": null,
   "metadata": {},
   "outputs": [],
   "source": [
    "bucket_name = \"udacity-dend\"\n",
    "sampleDbBucket =  s3.Bucket(bucket_name)\n",
    "for obj in sampleDbBucket.objects.filter(Prefix=\"song_data/A/A/A/TRAAAA\"):\n",
    "    print(obj)"
   ]
  },
  {
   "cell_type": "code",
   "execution_count": null,
   "metadata": {},
   "outputs": [],
   "source": [
    "sampleDbBucket =  s3.Bucket(bucket_name)\n",
    "for obj in sampleDbBucket.objects.filter(Prefix=\"log_data\"):\n",
    "    print(obj)"
   ]
  },
  {
   "cell_type": "code",
   "execution_count": null,
   "metadata": {},
   "outputs": [],
   "source": [
    "#download sample data\n",
    "s3.Bucket(bucket_name).download_file(Key = 'log_data/2018/11/2018-11-01-events.json', Filename = 'samples/2018-11-01-events.json')"
   ]
  },
  {
   "cell_type": "code",
   "execution_count": 2,
   "metadata": {},
   "outputs": [],
   "source": [
    "%run 'functions/create_tables.py'"
   ]
  },
  {
   "cell_type": "code",
   "execution_count": 3,
   "metadata": {},
   "outputs": [],
   "source": [
    "s3 = create_s3('configs/iam.cfg')"
   ]
  },
  {
   "cell_type": "code",
   "execution_count": null,
   "metadata": {},
   "outputs": [],
   "source": []
  },
  {
   "cell_type": "code",
   "execution_count": 6,
   "metadata": {},
   "outputs": [],
   "source": [
    "conn = make_connection('configs/aws.cfg')\n",
    "conn.autocommit = True\n",
    "cur = conn.cursor()"
   ]
  },
  {
   "cell_type": "code",
   "execution_count": null,
   "metadata": {},
   "outputs": [],
   "source": [
    "copy1 = \"\"\"\n",
    "    copy {} \n",
    "    from 's3://udacity-dend/log_data/' \n",
    "    credentials 'aws_iam_role={}'\n",
    "    json 'auto'\n",
    "    region 'us-west-2'\n",
    "    ;\n",
    "    \"\"\".format('staging_songs', 'arn:aws:iam::562911153477:role/Redshift_RO')"
   ]
  },
  {
   "cell_type": "code",
   "execution_count": null,
   "metadata": {},
   "outputs": [],
   "source": [
    "t0 = time()\n",
    "\n",
    "cur.execute(copy1)\n",
    "\n",
    "print('Copy time {}'.format(time()-t0))"
   ]
  },
  {
   "cell_type": "code",
   "execution_count": 4,
   "metadata": {},
   "outputs": [],
   "source": [
    "copy2 = \"\"\"\n",
    "    copy {} \n",
    "    from 's3://udacity-dend/log_data/2018/11/2018-11-01' \n",
    "    credentials 'aws_iam_role={}'\n",
    "    json 'auto'\n",
    "    region 'us-west-2'\n",
    "    ;\n",
    "    \"\"\".format('staging_events', 'arn:aws:iam::562911153477:role/Redshift_RO')"
   ]
  },
  {
   "cell_type": "code",
   "execution_count": 7,
   "metadata": {},
   "outputs": [
    {
     "name": "stdout",
     "output_type": "stream",
     "text": [
      "Copy time 12.712953567504883\n"
     ]
    }
   ],
   "source": [
    "t0 = time()\n",
    "\n",
    "cur.execute(copy2)\n",
    "\n",
    "print('Copy time {}'.format(time()-t0))"
   ]
  }
 ],
 "metadata": {
  "kernelspec": {
   "display_name": "Python 3.8.2 64-bit ('py38-dataEngineering': conda)",
   "language": "python",
   "name": "python38264bitpy38dataengineeringconda6e8d05d30a394fee93e0a92e4e504a6c"
  },
  "language_info": {
   "codemirror_mode": {
    "name": "ipython",
    "version": 3
   },
   "file_extension": ".py",
   "mimetype": "text/x-python",
   "name": "python",
   "nbconvert_exporter": "python",
   "pygments_lexer": "ipython3",
   "version": "3.8.2"
  }
 },
 "nbformat": 4,
 "nbformat_minor": 2
}
